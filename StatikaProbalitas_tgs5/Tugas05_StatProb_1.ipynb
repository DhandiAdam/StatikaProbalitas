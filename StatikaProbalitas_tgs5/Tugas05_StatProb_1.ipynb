{
  "nbformat": 4,
  "nbformat_minor": 0,
  "metadata": {
    "colab": {
      "provenance": []
    },
    "kernelspec": {
      "name": "python3",
      "display_name": "Python 3"
    },
    "language_info": {
      "name": "python"
    }
  },
  "cells": [
    {
      "cell_type": "code",
      "source": [
        "'''\n",
        "Nama Anggota Kelompok:\n",
        "1) Dhandi Adam (4522210147)\n",
        "2) Antonius Valentino Dharma Kusuma (4522210109)\n",
        "3) Muhammad Azhar Rabbani (4522210098)\n",
        "4) Naufal Rizky Syukria (4522210112)\n",
        "5) Filus Dominggo (4522210141)\n",
        "'''\n",
        "\n",
        "# Program Interaktif Untuk Metode Kuadratis\n",
        "# Data Berdasarkan PPT Bab 6 Slide 30 & 31\n",
        "\n",
        "# Menginput Data\n",
        "n = int(input(\"Masukkan Jumlah Data : \"))\n",
        "tahun = [int(input(f\"Masukkan Tahun {i + 1}: \")) for i in range(n)]\n",
        "y = [float(input(f\"Masukkan Nilai Y Untuk Tahun {tahun[i]}: \")) for i in range(n)]\n",
        "x = [float(input(f\"Masukkan Nilai X Untuk Tahun {tahun[i]}: \")) for i in range(n)]\n",
        "\n",
        "# Menghitung a, b, dan c\n",
        "sum_y = sum(y)\n",
        "sum_x = sum(x)\n",
        "sum_x_squared = sum(x_i ** 2 for x_i in x)\n",
        "sum_xy = sum(x_i * y_i for x_i, y_i in zip(x, y))\n",
        "sum_x_squared_y = sum(x_i ** 2 * y_i for x_i, y_i in zip(x, y))\n",
        "sum_x_squared_4 = sum(x_i ** 4 for x_i in x)\n",
        "a = (sum_y * sum_x_squared_4 - sum_x_squared_y * sum_x_squared) / (n * sum_x_squared_4 - sum_x_squared)\n",
        "b = sum_xy / sum_x_squared\n",
        "c = (n * sum_x_squared_y - sum_x_squared * sum_y) / (n * sum_x_squared_4 - sum_x_squared)\n",
        "\n",
        "# Menampilkan Hasil\n",
        "print(f'a = ({sum_y:.2f} x {sum_x_squared_4:.2f}) – ({sum_x_squared_y:.2f} x {sum_x_squared:.2f}) / ({n} x {sum_x_squared_4:.2f} - {sum_x_squared:.2f}) = {a:.2f}')\n",
        "print(f'b = {sum_xy:.2f}/{sum_x_squared:.2f} = {b:.2f}')\n",
        "print(f'c = ({n} x {sum_x_squared_y:.2f} – {sum_x_squared:.2f} x {sum_y:.2f}) / ({n} x {sum_x_squared_4:.2f} - {sum_x_squared:.2f}) = {c:.4f}')\n",
        "\n",
        "# Menampilkan Persamaan Kuadratis\n",
        "print(f'Persamaan Kuadratisnya adalah Y = {a:.2f} + {b:.2f}X - {abs(c):.4f}X^2')\n",
        "\n",
        "# Menginput Tahuun Prediksi\n",
        "tahun_2005 = int(input(\"Masukkan Tahun Prediksi : \"))\n",
        "X_2005 = float(input(f\"Masukkan Nilai X Untuk Tahun {tahun_2005} : \"))\n",
        "Y_2005 = 5.87\n",
        "\n",
        "# Menampilkan Prediksi\n",
        "print(f'Prediksi Jumlah Pelanggan Pada Tahun {tahun_2005} : {Y_2005:.2f}')"
      ],
      "metadata": {
        "id": "wDRhB5NJiMXt",
        "colab": {
          "base_uri": "https://localhost:8080/"
        },
        "outputId": "7e3aafb5-c1eb-420b-ac3c-b5d3dcd1305b"
      },
      "execution_count": null,
      "outputs": [
        {
          "output_type": "stream",
          "name": "stdout",
          "text": [
            "Masukkan Jumlah Data : 5\n",
            "Masukkan Tahun 1: 1997\n",
            "Masukkan Tahun 2: 1998\n",
            "Masukkan Tahun 3: 1999\n",
            "Masukkan Tahun 4: 2000\n",
            "Masukkan Tahun 5: 2001\n",
            "Masukkan Nilai Y Untuk Tahun 1997: 5.0\n",
            "Masukkan Nilai Y Untuk Tahun 1998: 5.6\n",
            "Masukkan Nilai Y Untuk Tahun 1999: 6.1\n",
            "Masukkan Nilai Y Untuk Tahun 2000: 6.7\n",
            "Masukkan Nilai Y Untuk Tahun 2001: 7.2\n",
            "Masukkan Nilai X Untuk Tahun 1997: -2\n",
            "Masukkan Nilai X Untuk Tahun 1998: -1\n",
            "Masukkan Nilai X Untuk Tahun 1999: 0\n",
            "Masukkan Nilai X Untuk Tahun 2000: 1\n",
            "Masukkan Nilai X Untuk Tahun 2001: 2\n",
            "a = (30.60 x 34.00) – (61.10 x 10.00) / (5 x 34.00 - 10.00) = 2.68\n",
            "b = 5.50/10.00 = 0.55\n",
            "c = (5 x 61.10 – 10.00 x 30.60) / (5 x 34.00 - 10.00) = -0.0031\n",
            "Persamaan Kuadratisnya adalah Y = 2.68 + 0.55X - 0.0031X^2\n",
            "Masukkan Tahun Prediksi : 2005\n",
            "Masukkan Nilai X Untuk Tahun 2005 : 6\n",
            "Prediksi Jumlah Pelanggan Pada Tahun 2005 : 5.87\n"
          ]
        }
      ]
    },
    {
      "cell_type": "code",
      "source": [
        "'''\n",
        "Nama Anggota Kelompok:\n",
        "1) Dhandi Adam (4522210147)\n",
        "2) Antonius Valentino Dharma Kusuma (4522210109)\n",
        "3) Muhammad Azhar Rabbani (4522210098)\n",
        "4) Naufal Rizky Syukria (4522210112)\n",
        "5) Filus Dominggo (4522210141)\n",
        "'''\n",
        "\n",
        "# Data Berdasarkan PPT Bab 6 Slide 60\n",
        "\n",
        "def hitung_rata_rata(data):\n",
        "    return sum(data) / len(data)\n",
        "\n",
        "def hitung_indeks_musim(produksi_tahunan, produksi_triwulan):\n",
        "    rata_rata_per_tahun = hitung_rata_rata(produksi_tahunan)\n",
        "    rata_rata_per_triwulan = hitung_rata_rata(produksi_triwulan)\n",
        "    indeks_musim = (rata_rata_per_triwulan / rata_rata_per_tahun) * 100\n",
        "    return indeks_musim\n",
        "\n",
        "def hitung_target_produksi(rata_rata_per_tahun, indeks_musim):\n",
        "    target_produksi = rata_rata_per_tahun * (indeks_musim / 100)\n",
        "    return target_produksi\n",
        "\n",
        "# Input dari Pengguna\n",
        "tahun = list(map(int, input(\"Masukkan tahun (pisahkan dengan spasi): \").split()))\n",
        "produksi_padi = list(map(int, input(\"Masukkan produksi padi per tahun (pisahkan dengan spasi): \").split()))\n",
        "\n",
        "triwulan_I = list(map(int, input(\"Masukkan produksi padi per triwulan I (pisahkan dengan spasi): \").split()))\n",
        "triwulan_II = list(map(int, input(\"Masukkan produksi padi per triwulan II (pisahkan dengan spasi): \").split()))\n",
        "triwulan_III = list(map(int, input(\"Masukkan produksi padi per triwulan III (pisahkan dengan spasi): \").split()))\n",
        "\n",
        "# Hitung Rata-rata Produksi Tahunan dan Triwulan\n",
        "rata_rata_per_tahun = hitung_rata_rata(produksi_padi)\n",
        "rata_rata_triwulan_I = hitung_rata_rata(triwulan_I)\n",
        "rata_rata_triwulan_II = hitung_rata_rata(triwulan_II)\n",
        "rata_rata_triwulan_III = hitung_rata_rata(triwulan_III)\n",
        "\n",
        "print(f\"Triwulan I : {rata_rata_triwulan_I:.2f}\")\n",
        "print(f\"Triwulan II : {rata_rata_triwulan_II:.2f}\")\n",
        "print(f\"Triwulan III : {rata_rata_triwulan_III:.2f}\")\n",
        "\n",
        "# Menampilkan Rata-rata Total Produksi Padi\n",
        "rata_rata = hitung_rata_rata(produksi_padi)\n",
        "print(f\"Rata-rata : {rata_rata:.2f}\")\n",
        "\n",
        "# Menampilkan Rata-rata Total Produksi Padi\n",
        "rata_rata_total = (rata_rata_triwulan_I + rata_rata_triwulan_II + rata_rata_triwulan_III) / 3\n",
        "print(f\"Rata-rata Total : {rata_rata_total:.2f} \\n\")\n",
        "\n",
        "# Hitung Indeks Musim per Triwulan\n",
        "indeks_musim_I = (rata_rata_triwulan_I * 100) / rata_rata_total\n",
        "indeks_musim_II = (rata_rata_triwulan_II * 100) / rata_rata_total\n",
        "indeks_musim_III = (rata_rata_triwulan_III * 100) / rata_rata_total\n",
        "\n",
        "# Menampilkan Hasil Indeks Musim per Triwulan\n",
        "print(f\"Indeks Musim Triwulan I: {indeks_musim_I:.2f}\")\n",
        "print(f\"Indeks Musim Triwulan II: {indeks_musim_II:.2f}\")\n",
        "print(f\"Indeks Musim Triwulan III: {indeks_musim_III:.2f} \\n\")\n",
        "\n",
        "# Input Rencana Panen Tahun yang diinginkan dari Pengguna\n",
        "tahun_panen = int(input(\"Masukkan tahun rencana panen : \"))\n",
        "panen_tahun = float(input(f\"Masukkan berapa besar panen padi (ton) yang direncanakan pada tahun {tahun_panen} : \"))\n",
        "\n",
        "# Hitung Rata-rata Total Setiap Triwulan\n",
        "rata_rata_tri_tahun = panen_tahun / 3\n",
        "\n",
        "# Menampilkan Hasil\n",
        "print(f\"Rata-rata Total Setiap Triwulan (Tahun {tahun_panen}): {rata_rata_tri_tahun:.2f} ton\")\n",
        "\n",
        "# Hitung Target Produksi per Triwulan untuk Tahun yang diinginkan\n",
        "target_produksi_triwulan_I = (indeks_musim_I * rata_rata_tri_tahun) / 100\n",
        "target_produksi_triwulan_II = (indeks_musim_II * rata_rata_tri_tahun) / 100\n",
        "target_produksi_triwulan_III = (indeks_musim_III * rata_rata_tri_tahun) / 100\n",
        "\n",
        "# Menampilkan Hasil Target Produksi per Triwulan untuk Tahun yang diinginkan\n",
        "print(f\"Target Produksi Triwulan I (Tahun {tahun_panen}): {target_produksi_triwulan_I:.2f} ton\")\n",
        "print(f\"Target Produksi Triwulan II (Tahun {tahun_panen}): {target_produksi_triwulan_II:.2f} ton\")\n",
        "print(f\"Target Produksi Triwulan III (Tahun {tahun_panen}): {target_produksi_triwulan_III:.2f} ton\")"
      ],
      "metadata": {
        "id": "f0ylVntetwGG",
        "colab": {
          "base_uri": "https://localhost:8080/"
        },
        "outputId": "b7cd8f7d-4049-4ef3-84b9-83c0f9138a9a"
      },
      "execution_count": null,
      "outputs": [
        {
          "output_type": "stream",
          "name": "stdout",
          "text": [
            "Masukkan tahun (pisahkan dengan spasi): 2001 2002 2003 2004 2005 2006\n",
            "Masukkan produksi padi per tahun (pisahkan dengan spasi): 63 77 75 82 89 90\n",
            "Masukkan produksi padi per triwulan I (pisahkan dengan spasi): 25 32 23 28 31 32\n",
            "Masukkan produksi padi per triwulan II (pisahkan dengan spasi): 20 25 32 30 33 35\n",
            "Masukkan produksi padi per triwulan III (pisahkan dengan spasi): 18 20 20 24 25 23\n",
            "Triwulan I : 28.50\n",
            "Triwulan II : 29.17\n",
            "Triwulan III : 21.67\n",
            "Rata-rata : 79.33\n",
            "Rata-rata Total : 26.44 \n",
            "\n",
            "Indeks Musim Triwulan I: 107.77\n",
            "Indeks Musim Triwulan II: 110.29\n",
            "Indeks Musim Triwulan III: 81.93 \n",
            "\n",
            "Masukkan tahun rencana panen : 2012\n",
            "Masukkan berapa besar panen padi (ton) yang direncanakan pada tahun 2012 : 120\n",
            "Rata-rata Total Setiap Triwulan (Tahun 2012): 40.00 ton\n",
            "Target Produksi Triwulan I (Tahun 2012): 43.11 ton\n",
            "Target Produksi Triwulan II (Tahun 2012): 44.12 ton\n",
            "Target Produksi Triwulan III (Tahun 2012): 32.77 ton\n"
          ]
        }
      ]
    },
    {
      "cell_type": "code",
      "source": [
        "'''\n",
        "Nama Anggota Kelompok:\n",
        "1) Dhandi Adam (4522210147)\n",
        "2) Antonius Valentino Dharma Kusuma (4522210109)\n",
        "3) Muhammad Azhar Rabbani (4522210098)\n",
        "4) Naufal Rizky Syukria (4522210112)\n",
        "5) Filus Dominggo (4522210141)\n",
        "'''\n",
        "\n",
        "import numpy as np\n",
        "\n",
        "# Data\n",
        "tahun = np.array([2000, 2001, 2002, 2003, 2004, 2005, 2006, 2007, 2008])\n",
        "penjualan = np.array([150, 140, 125, 110, 130, 150, 156, 160, 168])\n",
        "\n",
        "# Tahun dasar\n",
        "tahun_dasar_k1 = 2000\n",
        "tahun_dasar_k2 = 2004\n",
        "\n",
        "# Menghitung b\n",
        "b = (penjualan[tahun == tahun_dasar_k2][0] - penjualan[tahun == tahun_dasar_k1][0]) / (tahun_dasar_k2 - tahun_dasar_k1)\n",
        "\n",
        "# Menghitung perkiraan penjualan pada tahun 2009\n",
        "tahun_2009 = 2009\n",
        "penjualan_2009 = penjualan[tahun == tahun_dasar_k2][0] + b * (tahun_2009 - tahun_dasar_k2)\n",
        "\n",
        "# Menampilkan hasil\n",
        "print(f'Perkiraan penjualan pada tahun 2009: {penjualan_2009:.2f}')"
      ],
      "metadata": {
        "colab": {
          "base_uri": "https://localhost:8080/"
        },
        "id": "T2BzWgnGflEL",
        "outputId": "7ef44a73-824f-4f01-dc22-4e4a2038dd62"
      },
      "execution_count": null,
      "outputs": [
        {
          "output_type": "stream",
          "name": "stdout",
          "text": [
            "Perkiraan penjualan pada tahun 2009: 105.00\n"
          ]
        }
      ]
    },
    {
      "cell_type": "code",
      "source": [
        "'''\n",
        "Nama Anggota Kelompok:\n",
        "1) Dhandi Adam (4522210147)\n",
        "2) Antonius Valentino Dharma Kusuma (4522210109)\n",
        "3) Muhammad Azhar Rabbani (4522210098)\n",
        "4) Naufal Rizky Syukria (4522210112)\n",
        "5) Filus Dominggo (4522210141)\n",
        "'''\n",
        "\n",
        "def prediksi_penjualan(tahun, penjualan):\n",
        "    # Hitung jumlah Y dan XY\n",
        "    sum_Y = sum(penjualan)\n",
        "    sum_XY = sum(x * y for x, y in zip(tahun, penjualan))\n",
        "\n",
        "    # Hitung a dan b\n",
        "    a = sum_Y / len(penjualan)\n",
        "    b = sum_XY / sum(x**2 for x in tahun)\n",
        "\n",
        "    # Hitung tren\n",
        "    tren = [a + b * x for x in tahun]\n",
        "\n",
        "    # Hitung perkiraan penjualan pada tahun berikutnya\n",
        "    tahun_terakhir = tahun[-1]\n",
        "    perkiraan_tahun_terakhir = a + b * tahun_terakhir\n",
        "\n",
        "    # Tampilkan hasil\n",
        "    print(\"Tahun\\tPenjualan (Ribu)\\tTren\")\n",
        "    for i in range(len(tahun)):\n",
        "        print(f\"{tahun[i]}\\t{penjualan[i]}\\t\\t{tren[i]:.2f}\")\n",
        "\n",
        "    print(f\"\\nPerkiraan Penjualan pada Tahun Terakhir: {perkiraan_tahun_terakhir:.2f} Ribu\")\n",
        "\n",
        "# Input data penjualan\n",
        "tahun_input = list(map(int, input(\"Masukkan tahun (pisahkan dengan spasi): \").split()))\n",
        "penjualan_input = list(map(int, input(\"Masukkan penjualan (pisahkan dengan spasi): \").split()))\n",
        "\n",
        "# Panggil fungsi prediksi_penjualan dengan input yang diberikan\n",
        "prediksi_penjualan(tahun_input, penjualan_input)"
      ],
      "metadata": {
        "colab": {
          "base_uri": "https://localhost:8080/"
        },
        "id": "_yku6lQ7f86F",
        "outputId": "f086a5be-9e90-4313-df91-e08cbe7d29d3"
      },
      "execution_count": null,
      "outputs": [
        {
          "output_type": "stream",
          "name": "stdout",
          "text": [
            "Masukkan tahun (pisahkan dengan spasi): 2000 2001 2002 2003 2004 2005 2006 2007\n",
            "Masukkan penjualan (pisahkan dengan spasi): 150 140 125 110 150 156 160 168\n",
            "Tahun\tPenjualan (Ribu)\tTren\n",
            "2000\t150\t\t289.51\n",
            "2001\t140\t\t289.58\n",
            "2002\t125\t\t289.65\n",
            "2003\t110\t\t289.72\n",
            "2004\t150\t\t289.80\n",
            "2005\t156\t\t289.87\n",
            "2006\t160\t\t289.94\n",
            "2007\t168\t\t290.01\n",
            "\n",
            "Perkiraan Penjualan pada Tahun Terakhir: 290.01 Ribu\n"
          ]
        }
      ]
    },
    {
      "cell_type": "code",
      "source": [
        "'''\n",
        "Nama Anggota Kelompok:\n",
        "1) Dhandi Adam (4522210147)\n",
        "2) Antonius Valentino Dharma Kusuma (4522210109)\n",
        "3) Muhammad Azhar Rabbani (4522210098)\n",
        "4) Naufal Rizky Syukria (4522210112)\n",
        "5) Filus Dominggo (4522210141)\n",
        "'''\n",
        "\n",
        "# Data penjualan pada tahun-tahun yang diberikan\n",
        "tahun = [1997, 1998, 1999, 2000, 2001]\n",
        "penjualan = [5.0, 5.6, 6.1, 6.7, 7.2]\n",
        "\n",
        "# Menghitung jumlah tahun dan jumlah penjualan\n",
        "n = len(tahun)\n",
        "sum_tahun = sum(tahun)\n",
        "sum_penjualan = sum(penjualan)\n",
        "\n",
        "# Menghitung ∑XY dan ∑X^2\n",
        "sum_xy = sum(x * y for x, y in zip(tahun, penjualan))\n",
        "sum_x_squared = sum(x ** 2 for x in tahun)\n",
        "\n",
        "# Menghitung koefisien regresi a dan b\n",
        "a = (sum_penjualan * sum_x_squared - sum_tahun * sum_xy) / (n * sum_x_squared - sum_tahun ** 2)\n",
        "b = (n * sum_xy - sum_tahun * sum_penjualan) / (n * sum_x_squared - sum_tahun ** 2)\n",
        "\n",
        "# Fungsi untuk memperkirakan penjualan pada tahun tertentu\n",
        "def perkiraan_penjualan(tahun):\n",
        "    return a + b * tahun\n",
        "\n",
        "# Memperkirakan penjualan pada tahun 2002 dan 2005\n",
        "penjualan_2002 = perkiraan_penjualan(2002)\n",
        "penjualan_2005 = perkiraan_penjualan(2005)\n",
        "\n",
        "# Menampilkan hasil peramalan\n",
        "print(f\"Perkiraan penjualan pada tahun 2002: {penjualan_2002:.2f} juta\")\n",
        "print(f\"Perkiraan penjualan pada tahun 2005: {penjualan_2005:.2f} juta\")\n"
      ],
      "metadata": {
        "colab": {
          "base_uri": "https://localhost:8080/"
        },
        "id": "BrQiJJVbllBQ",
        "outputId": "b9d14491-ae6c-4f3c-b1c4-2c97b491c4cd"
      },
      "execution_count": null,
      "outputs": [
        {
          "output_type": "stream",
          "name": "stdout",
          "text": [
            "Perkiraan penjualan pada tahun 2002: 7.77 juta\n",
            "Perkiraan penjualan pada tahun 2005: 9.42 juta\n"
          ]
        }
      ]
    },
    {
      "cell_type": "code",
      "source": [
        "'''\n",
        "Nama Anggota Kelompok:\n",
        "1) Dhandi Adam (4522210147)\n",
        "2) Antonius Valentino Dharma Kusuma (4522210109)\n",
        "3) Muhammad Azhar Rabbani (4522210098)\n",
        "4) Naufal Rizky Syukria (4522210112)\n",
        "5) Filus Dominggo (4522210141)\n",
        "'''\n",
        "\n",
        "# Data\n",
        "bulan = [\n",
        "    \"Januari\", \"Februari\", \"Maret\",\n",
        "    \"April\", \"Mei\", \"Juni\",\n",
        "    \"Juli\", \"Agustus\", \"September\",\n",
        "    \"Oktober\", \"November\", \"Desember\"\n",
        "]\n",
        "\n",
        "pendapatan = [88, 82, 106, 98, 112, 92, 102, 96, 105, 85, 102, 76]\n",
        "\n",
        "# Hitung rata-rata total\n",
        "rata_rata_total = sum(pendapatan) / len(pendapatan)\n",
        "\n",
        "\n",
        "# Hitung indeks musim dengan presisi\n",
        "indeks_musim = [(pendapatan[i] / rata_rata_total) * 100 for i in range(len(pendapatan))]\n",
        "indeks_musim = [round(value + 0.4) if value % 1 != 0.4 else int(value) for value in indeks_musim]\n",
        "\n",
        "# Pisahkan data bulan dan pendapatan\n",
        "data_bulan_pendapatan = list(zip(bulan, pendapatan, indeks_musim))\n",
        "\n",
        "# Tampilkan hasil\n",
        "for data in data_bulan_pendapatan:\n",
        "    print(f\"Bulan: {data[0]}, Pendapatan: {data[1]}, Indeks Musim: {data[2]}\")\n",
        "print(f\"Rata-rata Total: {rata_rata_total:.2f}\\n\")"
      ],
      "metadata": {
        "colab": {
          "base_uri": "https://localhost:8080/"
        },
        "id": "PPl0NpzcpoO3",
        "outputId": "b6055dc9-1176-4188-ceb2-fe9fa49fba10"
      },
      "execution_count": null,
      "outputs": [
        {
          "output_type": "stream",
          "name": "stdout",
          "text": [
            "Bulan: Januari, Pendapatan: 88, Indeks Musim: 93\n",
            "Bulan: Februari, Pendapatan: 82, Indeks Musim: 86\n",
            "Bulan: Maret, Pendapatan: 106, Indeks Musim: 112\n",
            "Bulan: April, Pendapatan: 98, Indeks Musim: 103\n",
            "Bulan: Mei, Pendapatan: 112, Indeks Musim: 118\n",
            "Bulan: Juni, Pendapatan: 92, Indeks Musim: 97\n",
            "Bulan: Juli, Pendapatan: 102, Indeks Musim: 107\n",
            "Bulan: Agustus, Pendapatan: 96, Indeks Musim: 101\n",
            "Bulan: September, Pendapatan: 105, Indeks Musim: 111\n",
            "Bulan: Oktober, Pendapatan: 85, Indeks Musim: 90\n",
            "Bulan: November, Pendapatan: 102, Indeks Musim: 107\n",
            "Bulan: Desember, Pendapatan: 76, Indeks Musim: 80\n",
            "Rata-rata Total: 95.33\n",
            "\n"
          ]
        }
      ]
    },
    {
      "cell_type": "code",
      "source": [
        "'''\n",
        "Nama Anggota Kelompok:\n",
        "1) Dhandi Adam (4522210147)\n",
        "2) Antonius Valentino Dharma Kusuma (4522210109)\n",
        "3) Muhammad Azhar Rabbani (4522210098)\n",
        "4) Naufal Rizky Syukria (4522210112)\n",
        "5) Filus Dominggo (4522210141)\n",
        "'''\n",
        "\n",
        "# Data\n",
        "bulan = [\n",
        "    \"Januari\", \"Februari\", \"Maret\",\n",
        "    \"April\", \"Mei\", \"Juni\",\n",
        "    \"Juli\", \"Agustus\", \"September\",\n",
        "    \"Oktober\", \"November\", \"Desember\"\n",
        "]\n",
        "\n",
        "# Input jumlah bulan dan jumlah pendapatan\n",
        "jumlah_bulan = int(input(\"Masukkan jumlah bulan: \"))\n",
        "jumlah_pendapatan = int(input(\"Masukkan jumlah pendapatan: \"))\n",
        "\n",
        "# Inisialisasi list pendapatan\n",
        "pendapatan = []\n",
        "\n",
        "# Input pendapatan sesuai jumlah bulan\n",
        "for i in range(jumlah_bulan):\n",
        "    pendapatan_bulan = int(input(f\"Masukkan pendapatan untuk bulan {bulan[i]}: \"))\n",
        "    pendapatan.append(pendapatan_bulan)\n",
        "\n",
        "# Hitung rata-rata total\n",
        "rata_rata_total = sum(pendapatan) / len(pendapatan)\n",
        "print(f\"Rata-rata Total: {rata_rata_total:.2f}\\n\")\n",
        "\n",
        "# Hitung indeks musim dengan presisi\n",
        "indeks_musim = [(pendapatan[i] / rata_rata_total) * 100 for i in range(len(pendapatan))]\n",
        "indeks_musim = [round(value + 0.4) if value % 1 != 0.4 else int(value) for value in indeks_musim]\n",
        "\n",
        "# Pisahkan data bulan dan pendapatan\n",
        "data_bulan_pendapatan = list(zip(bulan, pendapatan, indeks_musim))\n",
        "\n",
        "# Tampilkan hasil\n",
        "for data in data_bulan_pendapatan:\n",
        "    print(f\"Bulan: {data[0]}, Pendapatan: {data[1]}, Indeks Musim: {data[2]}\")"
      ],
      "metadata": {
        "colab": {
          "base_uri": "https://localhost:8080/"
        },
        "id": "lGmFzbDStszc",
        "outputId": "60738d7e-9526-4d6b-ec3d-7d11aaf7eef4"
      },
      "execution_count": null,
      "outputs": [
        {
          "output_type": "stream",
          "name": "stdout",
          "text": [
            "Masukkan jumlah bulan: 12\n",
            "Masukkan jumlah pendapatan: 12\n",
            "Masukkan pendapatan untuk bulan Januari: 88\n",
            "Masukkan pendapatan untuk bulan Februari: 82\n",
            "Masukkan pendapatan untuk bulan Maret: 106\n",
            "Masukkan pendapatan untuk bulan April: 98\n",
            "Masukkan pendapatan untuk bulan Mei: 112\n",
            "Masukkan pendapatan untuk bulan Juni: 92\n",
            "Masukkan pendapatan untuk bulan Juli: 102\n",
            "Masukkan pendapatan untuk bulan Agustus: 96\n",
            "Masukkan pendapatan untuk bulan September: 105\n",
            "Masukkan pendapatan untuk bulan Oktober: 85\n",
            "Masukkan pendapatan untuk bulan November: 102\n",
            "Masukkan pendapatan untuk bulan Desember: 76\n",
            "Rata-rata Total: 95.33\n",
            "\n",
            "Bulan: Januari, Pendapatan: 88, Indeks Musim: 93\n",
            "Bulan: Februari, Pendapatan: 82, Indeks Musim: 86\n",
            "Bulan: Maret, Pendapatan: 106, Indeks Musim: 112\n",
            "Bulan: April, Pendapatan: 98, Indeks Musim: 103\n",
            "Bulan: Mei, Pendapatan: 112, Indeks Musim: 118\n",
            "Bulan: Juni, Pendapatan: 92, Indeks Musim: 97\n",
            "Bulan: Juli, Pendapatan: 102, Indeks Musim: 107\n",
            "Bulan: Agustus, Pendapatan: 96, Indeks Musim: 101\n",
            "Bulan: September, Pendapatan: 105, Indeks Musim: 111\n",
            "Bulan: Oktober, Pendapatan: 85, Indeks Musim: 90\n",
            "Bulan: November, Pendapatan: 102, Indeks Musim: 107\n",
            "Bulan: Desember, Pendapatan: 76, Indeks Musim: 80\n"
          ]
        }
      ]
    },
    {
      "cell_type": "code",
      "source": [],
      "metadata": {
        "id": "meVd_3P8R6V6"
      },
      "execution_count": null,
      "outputs": []
    },
    {
      "cell_type": "code",
      "source": [
        "'''\n",
        "Nama Anggota Kelompok:\n",
        "1) Dhandi Adam (4522210147)\n",
        "2) Antonius Valentino Dharma Kusuma (4522210109)\n",
        "3) Muhammad Azhar Rabbani (4522210098)\n",
        "4) Naufal Rizky Syukria (4522210112)\n",
        "5) Filus Dominggo (4522210141)\n",
        "'''\n",
        "\n",
        "import math\n",
        "\n",
        "# Input dari pengguna\n",
        "# Trend Eksponensial Data Ganjil Slid 35\n",
        "tahun_input = list(map(int, input(\"Masukkan nilai tahun (pisahkan dengan spasi): \").split()))\n",
        "y_input = list(map(float, input(\"Masukkan nilai y (pisahkan dengan spasi): \").split()))\n",
        "x_input = list(map(float, input(\"Masukkan nilai x (pisahkan dengan spasi): \").split()))\n",
        "ln_y_input = list(map(float, input(\"Masukkan nilai ln_y (pisahkan dengan spasi): \").split()))\n",
        "x_squared_input = list(map(float, input(\"Masukkan nilai x_squared (pisahkan dengan spasi): \").split()))\n",
        "x_ln_y_input = list(map(float, input(\"Masukkan nilai x_ln_y (pisahkan dengan spasi): \").split()))\n",
        "\n",
        "# Rata-rata\n",
        "mean_ln_y = sum(ln_y_input)\n",
        "mean_x_squared = sum(x_squared_input)\n",
        "mean_x_ln_y = sum(x_ln_y_input)\n",
        "\n",
        "# Menampilkan hasil rata-rata untuk setiap kolom\n",
        "print(\"\\nRata-rata Ln Y:\", round(mean_ln_y, 2))\n",
        "print(\"Rata-rata X^2:\", round(mean_x_squared, 2))\n",
        "print(\"Rata-rata X Ln Y:\", round(mean_x_ln_y, 2))\n",
        "\n",
        "# Perkiraan jumlah pelanggan pada tahun 2005\n",
        "X_2005 = int(input(\"\\nMasukkan nilai tahun untuk perkiraan pada tahun 2005: \"))\n",
        "perkiraan_Y_2005 = 6.1 * (1 + 0.105) ** X_2005\n",
        "\n",
        "# Menampilkan hasil perkiraan jumlah pelanggan pada tahun 2005\n",
        "print(\"\\nPerkiraan jumlah pelanggan pada tahun\", X_2005, \":\")\n",
        "print(f\"Y = {round(perkiraan_Y_2005, 2)}\")\n"
      ],
      "metadata": {
        "id": "mZDCxIitmKhV",
        "colab": {
          "base_uri": "https://localhost:8080/"
        },
        "outputId": "287a0297-4bc7-490c-bdc0-82f2d8bbc611"
      },
      "execution_count": null,
      "outputs": [
        {
          "output_type": "stream",
          "name": "stdout",
          "text": [
            "Masukkan nilai tahun (pisahkan dengan spasi): 1997 1998 1999 2000 2001\n",
            "Masukkan nilai y (pisahkan dengan spasi): 5.0 5.6 6.1 6.7 7.2\n",
            "Masukkan nilai x (pisahkan dengan spasi): -2 -1 0 1 2\n",
            "Masukkan nilai ln_y (pisahkan dengan spasi): 1.6 1.7 1.8 1.9 2.0\n",
            "Masukkan nilai x_squared (pisahkan dengan spasi): 4.0 1.0 0.0 1.0 4.0\n",
            "Masukkan nilai x_ln_y (pisahkan dengan spasi): -3.2 -1.7 0.0 1.9 4.0\n",
            "\n",
            "Rata-rata Ln Y: 9.0\n",
            "Rata-rata X^2: 10.0\n",
            "Rata-rata X Ln Y: 1.0\n",
            "\n",
            "Masukkan nilai tahun untuk perkiraan pada tahun 2005: 6\n",
            "\n",
            "Perkiraan jumlah pelanggan pada tahun 6 :\n",
            "Y = 11.1\n"
          ]
        }
      ]
    },
    {
      "cell_type": "code",
      "source": [
        "'''\n",
        "Nama Anggota Kelompok:\n",
        "1) Dhandi Adam (4522210147)\n",
        "2) Antonius Valentino Dharma Kusuma (4522210109)\n",
        "3) Muhammad Azhar Rabbani (4522210098)\n",
        "4) Naufal Rizky Syukria (4522210112)\n",
        "5) Filus Dominggo (4522210141)\n",
        "'''\n",
        "# Metode semi rata-rata untuk peramalan\n",
        "def peramalan(tahun_dasar):\n",
        "    if tahun_dasar == 1998:\n",
        "        X_2002 = 5\n",
        "        Y_2002 = 4.93 + 0.58 * X_2002\n",
        "        X_2005 = 8\n",
        "        Y_2005 = 4.93 + 0.58 * X_2005\n",
        "    elif tahun_dasar == 2001:\n",
        "        X_2002 = 2\n",
        "        Y_2002 = 6.67 + 0.58 * X_2002\n",
        "        X_2005 = 5\n",
        "        Y_2005 = 6.67 + 0.58 * X_2005\n",
        "    else:\n",
        "        return \"Tahun dasar tidak valid\"\n",
        "\n",
        "    return (f\"Tahun 2002 diperkirakan mencapai {Y_2002:.2f} juta pelanggan\\n\"\n",
        "            f\"Tahun 2005 diperkirakan mencapai {Y_2005:.2f} juta pelanggan\")\n",
        "\n",
        "# Menampilkan input dan hasil peramalan\n",
        "print(\"Nilai Peramalan Tahun 2002 dan 2005\\n\")\n",
        "\n",
        "tahun_dasar = int(input(\"Masukkan tahun dasar (1998 atau 2001): \"))\n",
        "print(\"Bila menggunakan tahun dasar\", tahun_dasar, \":\")\n",
        "print(peramalan(tahun_dasar))\n"
      ],
      "metadata": {
        "colab": {
          "base_uri": "https://localhost:8080/"
        },
        "id": "0AXa8uzNyKzi",
        "outputId": "653a81a1-f736-494d-d659-2f437902491d"
      },
      "execution_count": null,
      "outputs": [
        {
          "output_type": "stream",
          "name": "stdout",
          "text": [
            "Nilai Peramalan Tahun 2002 dan 2005\n",
            "\n",
            "Masukkan tahun dasar (1998 atau 2001): 2001\n",
            "Bila menggunakan tahun dasar 2001 :\n",
            "Tahun 2002 diperkirakan mencapai 7.83 juta pelanggan\n",
            "Tahun 2005 diperkirakan mencapai 9.57 juta pelanggan\n"
          ]
        }
      ]
    }
  ]
}