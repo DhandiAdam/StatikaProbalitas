{
  "nbformat": 4,
  "nbformat_minor": 0,
  "metadata": {
    "colab": {
      "provenance": []
    },
    "kernelspec": {
      "name": "python3",
      "display_name": "Python 3"
    },
    "language_info": {
      "name": "python"
    }
  },
  "cells": [
    {
      "cell_type": "code",
      "source": [
        " def hitung_mean():\n",
        "    data = []\n",
        "    total_xi_fi = 0\n",
        "    total_fi = 0\n",
        "\n",
        "    while True:\n",
        "        input_data = input(\"Masukkan data dalam bentuk interval (misal: 38-40) atau ketik -1 untuk menghitung mean: \")\n",
        "        if input_data == \"-1\":\n",
        "            break\n",
        "\n",
        "        try:\n",
        "            batas_bawah, batas_atas = map(int, input_data.split('-'))\n",
        "            fi = int(input(\"Masukkan frekuensi (fi) untuk interval ini: \"))\n",
        "\n",
        "            # Memastikan frekuensi positif\n",
        "            if fi < 0:\n",
        "                print(\"Frekuensi (fi) harus positif. Coba lagi.\")\n",
        "                continue\n",
        "\n",
        "            data.extend([batas_bawah] * fi)  # Menambahkan batas_bawah sebanyak fi kali\n",
        "            total_xi_fi += fi * ((batas_bawah + batas_atas) / 2)  # Menghitung fi * xi\n",
        "            total_fi += fi\n",
        "        except ValueError:\n",
        "            print(\"Format interval atau frekuensi tidak valid. Coba lagi.\")\n",
        "\n",
        "    if data:\n",
        "        mean = total_xi_fi / total_fi\n",
        "        print(f\"Mean dari data kelompok adalah: {mean}\")\n",
        "    else:\n",
        "        print(\"Tidak ada data yang dimasukkan.\")\n",
        "\n",
        "if __name__ == \"__main__\":\n",
        "    hitung_mean()\n"
      ],
      "metadata": {
        "colab": {
          "base_uri": "https://localhost:8080/"
        },
        "id": "_Is9AE5b_RBK",
        "outputId": "d316acf6-be0a-48f3-98d6-b9d06653eb8b"
      },
      "execution_count": null,
      "outputs": [
        {
          "output_type": "stream",
          "name": "stdout",
          "text": [
            "Masukkan data dalam bentuk interval (misal: 38-40) atau ketik -1 untuk menghitung mean: 34-40\n",
            "Masukkan frekuensi (fi) untuk interval ini: 1\n",
            "Masukkan data dalam bentuk interval (misal: 38-40) atau ketik -1 untuk menghitung mean: 41-47\n",
            "Masukkan frekuensi (fi) untuk interval ini: 5\n",
            "Masukkan data dalam bentuk interval (misal: 38-40) atau ketik -1 untuk menghitung mean: 48-54\n",
            "Masukkan frekuensi (fi) untuk interval ini: 13\n",
            "Masukkan data dalam bentuk interval (misal: 38-40) atau ketik -1 untuk menghitung mean: 55-61\n",
            "Masukkan frekuensi (fi) untuk interval ini: 16\n",
            "Masukkan data dalam bentuk interval (misal: 38-40) atau ketik -1 untuk menghitung mean: 62-68\n",
            "Masukkan frekuensi (fi) untuk interval ini: 6\n",
            "Masukkan data dalam bentuk interval (misal: 38-40) atau ketik -1 untuk menghitung mean: 69-75\n",
            "Masukkan frekuensi (fi) untuk interval ini: 4\n",
            "Masukkan data dalam bentuk interval (misal: 38-40) atau ketik -1 untuk menghitung mean: -1\n",
            "Mean dari data kelompok adalah: 56.13333333333333\n"
          ]
        }
      ]
    },
    {
      "cell_type": "code",
      "source": [
        "# Membuat list untuk menyimpan kelas dan frekuensi\n",
        "kelas = [\"34-40\", \"41-47\", \"48-54\", \"55-61\", \"62-68\", \"69-75\"]\n",
        "frekuensi = [1, 5, 13, 16, 6, 4]\n",
        "\n",
        "# Menghitung jumlah total frekuensi (N)\n",
        "N = sum(frekuensi)\n",
        "\n",
        "# Inisialisasi variabel untuk jumlah total fi * xi\n",
        "total_fi_xi = 0\n",
        "\n",
        "# Loop untuk menghitung total fi * xi\n",
        "for i in range(len(kelas)):\n",
        "    batas = kelas[i].split(\"-\")\n",
        "    batas_bawah = int(batas[0])\n",
        "    batas_atas = int(batas[1])\n",
        "    frek = frekuensi[i]\n",
        "\n",
        "    # Menghitung titik tengah kelas (xi)\n",
        "    xi = (batas_bawah + batas_atas) / 2\n",
        "\n",
        "    # Menambahkan hasil fi * xi ke total_fi_xi\n",
        "    total_fi_xi += frek * xi\n",
        "\n",
        "# Menghitung mean (rata-rata)\n",
        "mean = total_fi_xi / N\n",
        "\n",
        "# Menampilkan hasil\n",
        "print(f\"Mean (Rata-rata) dari data kelompok adalah: {mean:.2f}\")\n"
      ],
      "metadata": {
        "colab": {
          "base_uri": "https://localhost:8080/"
        },
        "id": "ZMOO2DUK_62k",
        "outputId": "2475ff7d-8574-4636-cb0f-b6b5c12b4e7c"
      },
      "execution_count": null,
      "outputs": [
        {
          "output_type": "stream",
          "name": "stdout",
          "text": [
            "Mean (Rata-rata) dari data kelompok adalah: 56.13\n"
          ]
        }
      ]
    },
    {
      "cell_type": "code",
      "source": [
        "# Membuat Modus Interaktiv\n",
        "modus_list = []\n",
        "\n",
        "# Meminta pengguna untuk memasukkan jumlah interval\n",
        "num_intervals = int(input(\"Masukkan jumlah interval: \"))\n",
        "\n",
        "# Variabel untuk menyimpan interval dengan frekuensi paling banyak\n",
        "max_frequency_interval = None\n",
        "max_frequency = 0\n",
        "\n",
        "# Membuat list untuk menyimpan seluruh interval\n",
        "intervals = []\n",
        "frequencies = []\n",
        "\n",
        "# Loop untuk mengolah setiap interval\n",
        "for i in range(num_intervals):\n",
        "    # Meminta pengguna untuk memasukkan interval kelas dan frekuensi\n",
        "    interval_str = input(f\"Masukkan interval kelas ke-{i+1} (contoh: 34-40): \")\n",
        "    frequencies_str = input(f\"Masukkan frekuensi kelas ke-{i+1}: \")\n",
        "\n",
        "    # Konversi frekuensi ke integer\n",
        "    frequencies_value = int(frequencies_str)\n",
        "\n",
        "    # Menyimpan interval dan frekuensi dalam list\n",
        "    intervals.append(interval_str)\n",
        "    frequencies.append(frequencies_value)\n",
        "\n",
        "    # Jika frekuensi saat ini lebih besar daripada frekuensi maksimum yang ada\n",
        "    if frequencies_value > max_frequency:\n",
        "        # Perbarui frekuensi maksimum dan interval yang sesuai\n",
        "        max_frequency = frequencies_value\n",
        "        max_frequency_interval = interval_str\n",
        "\n",
        "# Membagi interval dengan frekuensi maksimum menjadi tepi kelas bawah (Lo) dan panjang kelas (c)\n",
        "interval_parts = max_frequency_interval.split('-')\n",
        "Lo = float(interval_parts[0]) - 0.5\n",
        "interval_parts[1] = interval_parts[1].strip()\n",
        "c = float(interval_parts[1]) + 0.5 - Lo\n",
        "\n",
        "# Mencari indeks interval dengan frekuensi maksimum dalam list\n",
        "max_frequency_index = frequencies.index(max_frequency)\n",
        "\n",
        "# Menghitung d1 dan d2 sesuai dengan indeks interval yang memiliki frekuensi paling besar\n",
        "if max_frequency_index > 0:\n",
        "    d1 = frequencies[max_frequency_index] - frequencies[max_frequency_index - 1]\n",
        "else:\n",
        "    d1 = 0\n",
        "\n",
        "if max_frequency_index < num_intervals - 1:\n",
        "    d2 = frequencies[max_frequency_index] - frequencies[max_frequency_index + 1]\n",
        "else:\n",
        "    d2 = 0\n",
        "\n",
        "# Menghitung nilai modus (Mo) untuk interval dengan frekuensi paling banyak\n",
        "Modus = Lo + c * (d1 / (d1 + d2))\n",
        "\n",
        "# Menambahkan nilai Modus ke dalam list modus_list\n",
        "modus_list.append(Modus)\n",
        "\n",
        "# Menampilkan hasil perhitungan proses dan Modus untuk interval dengan frekuensi paling banyak\n",
        "print(f\"Proses perhitungan Modus (Mo):\")\n",
        "print(f\"Modus (Mo) = Lo + c * (d1 / (d1 + d2)) = {Lo} + {c} * ({d1} / ({d1} + {d2}))\")\n",
        "print(f\"Modus : {Modus}\")"
      ],
      "metadata": {
        "colab": {
          "base_uri": "https://localhost:8080/"
        },
        "id": "i36E9gGQChqx",
        "outputId": "22236586-4730-4cf9-c185-968e88a79a36"
      },
      "execution_count": null,
      "outputs": [
        {
          "output_type": "stream",
          "name": "stdout",
          "text": [
            "Masukkan jumlah interval: 6\n",
            "Masukkan interval kelas ke-1 (contoh: 34-40): 34-40\n",
            "Masukkan frekuensi kelas ke-1: 1\n",
            "Masukkan interval kelas ke-2 (contoh: 34-40): 41-47\n",
            "Masukkan frekuensi kelas ke-2: 5\n",
            "Masukkan interval kelas ke-3 (contoh: 34-40): 48-54\n",
            "Masukkan frekuensi kelas ke-3: 13\n",
            "Masukkan interval kelas ke-4 (contoh: 34-40): 55-61\n",
            "Masukkan frekuensi kelas ke-4: 16\n",
            "Masukkan interval kelas ke-5 (contoh: 34-40): 62-68\n",
            "Masukkan frekuensi kelas ke-5: 6\n",
            "Masukkan interval kelas ke-6 (contoh: 34-40): 69-75\n",
            "Masukkan frekuensi kelas ke-6: 4\n",
            "Proses perhitungan Modus (Mo):\n",
            "Modus (Mo) = Lo + c * (d1 / (d1 + d2)) = 54.5 + 7.0 * (3 / (3 + 10))\n",
            "Modus : 56.11538461538461\n"
          ]
        }
      ]
    },
    {
      "cell_type": "code",
      "source": [
        "# Membuat list untuk menyimpan seluruh interval dan frekuensi\n",
        "intervals = [\"34-40\", \"41-47\", \"48-54\", \"55-61\", \"62-68\", \"69-75\"]\n",
        "frequencies = [1, 5, 13, 16, 6, 4]\n",
        "\n",
        "# Variabel untuk menyimpan interval dengan frekuensi paling banyak\n",
        "max_frequency_interval = None\n",
        "max_frequency = max(frequencies)\n",
        "\n",
        "# Mencari indeks interval dengan frekuensi paling besar dalam list frekuensi\n",
        "max_frequency_index = frequencies.index(max_frequency)\n",
        "\n",
        "# Membagi interval dengan frekuensi maksimum menjadi tepi kelas bawah (Lo) dan panjang kelas (c)\n",
        "interval_parts = intervals[max_frequency_index].split('-')\n",
        "Lo = float(interval_parts[0]) - 0.5\n",
        "interval_parts[1] = interval_parts[1].strip()\n",
        "c = float(interval_parts[1]) + 0.5 - Lo\n",
        "\n",
        "# Menghitung d1 dan d2 sesuai dengan indeks interval yang memiliki frekuensi paling besar\n",
        "if max_frequency_index > 0:\n",
        "    d1 = frequencies[max_frequency_index] - frequencies[max_frequency_index - 1]\n",
        "else:\n",
        "    d1 = 0\n",
        "\n",
        "if max_frequency_index < len(intervals) - 1:\n",
        "    d2 = frequencies[max_frequency_index] - frequencies[max_frequency_index + 1]\n",
        "else:\n",
        "    d2 = 0\n",
        "\n",
        "# Menghitung nilai modus (Mo) untuk interval dengan frekuensi paling banyak\n",
        "Modus = Lo + c * (d1 / (d1 + d2))\n",
        "\n",
        "# Menampilkan hasil perhitungan proses dan Modus untuk interval dengan frekuensi paling banyak\n",
        "print(f\"Proses perhitungan Modus (Mo):\")\n",
        "print(f\"Modus (Mo) = Lo + c * (d1 / (d1 + d2)) = {Lo} + {c} * ({d1} / ({d1} + {d2}))\")\n",
        "print(f\"Modus : {Modus}\")"
      ],
      "metadata": {
        "colab": {
          "base_uri": "https://localhost:8080/"
        },
        "id": "4J4YbZWNCiPp",
        "outputId": "5e9b0e03-67ae-4c43-f19e-b4eecffef8d0"
      },
      "execution_count": null,
      "outputs": [
        {
          "output_type": "stream",
          "name": "stdout",
          "text": [
            "Proses perhitungan Modus (Mo):\n",
            "Modus (Mo) = Lo + c * (d1 / (d1 + d2)) = 54.5 + 7.0 * (3 / (3 + 10))\n",
            "Modus : 56.11538461538461\n"
          ]
        }
      ]
    },
    {
      "cell_type": "code",
      "source": [
        "#Menghitung Median Interaktif\n",
        "def hitung_median_dari_data(data_kelas, data_frekuensi):\n",
        "    # Menghitung n (jumlah total frekuensi data)\n",
        "    n = sum(data_frekuensi)\n",
        "\n",
        "    # Menghitung fk (jumlah semua frekuensi dengan kelas lebih kecil dari kelas median)\n",
        "    fk = 0\n",
        "\n",
        "    # Menghitung fm (frekuensi kelas median yang Anda inginkan)\n",
        "    fm = 0\n",
        "\n",
        "    # Menghitung Lo dan c\n",
        "    Lo = 0\n",
        "    c = 0\n",
        "\n",
        "    # Mencari indeks interval dengan frekuensi paling besar\n",
        "    max_frequency_index = data_frekuensi.index(max(data_frekuensi))\n",
        "\n",
        "    for i in range(len(data_kelas)):\n",
        "        if i == max_frequency_index:\n",
        "            # Menghitung fk dan fm berdasarkan interval dengan frekuensi paling besar\n",
        "            fk += sum(data_frekuensi[:i])\n",
        "            fm = data_frekuensi[i]\n",
        "\n",
        "            # Menghitung Lo dan c berdasarkan interval dengan frekuensi paling besar\n",
        "            interval_parts = data_kelas[i].split('-')\n",
        "            Lo = float(interval_parts[0]) - 0.5\n",
        "            c = (float(interval_parts[1]) + 0.5) - Lo\n",
        "            break\n",
        "\n",
        "    # Menghitung median sesuai dengan rumus yang diberikan\n",
        "    median = Lo + c * (((n / 2) - fk) / fm)\n",
        "\n",
        "    return median, Lo, c, n, fk, fm\n",
        "\n",
        "# Meminta input dari pengguna untuk data kelas dan frekuensi\n",
        "input_kelas = input(\"Masukkan data kelas (pisahkan dengan koma): \")\n",
        "input_frekuensi = input(\"Masukkan data frekuensi (pisahkan dengan spasi): \")\n",
        "\n",
        "# Membagi input kelas dan frekuensi menjadi list\n",
        "data_kelas = input_kelas.split(',')\n",
        "data_frekuensi = [int(x) for x in input_frekuensi.split()]\n",
        "\n",
        "# Memanggil fungsi untuk menghitung median dari data yang dimasukkan pengguna\n",
        "hasil_median, Lo, c, n, fk, fm = hitung_median_dari_data(data_kelas, data_frekuensi)\n",
        "\n",
        "# Menampilkan hasil perhitungan median beserta prosesnya\n",
        "print(\"Cara menghitung median:\")\n",
        "print(f\"Median = Lo + c * (((n / 2) - fk) / fm)\")\n",
        "print(f\"Median = {Lo} + {c} * ((({n} / 2) - {fk}) / {fm})\")\n",
        "print(f\"Median = {hasil_median}\")"
      ],
      "metadata": {
        "colab": {
          "base_uri": "https://localhost:8080/"
        },
        "id": "XhggxUZSKyE7",
        "outputId": "ea5b8b09-0b47-4b00-999f-886c2e4b1d46"
      },
      "execution_count": null,
      "outputs": [
        {
          "output_type": "stream",
          "name": "stdout",
          "text": [
            "Masukkan data kelas (pisahkan dengan koma): 34-40,41-47,48-54,55-61,62-68,69-75\n",
            "Masukkan data frekuensi (pisahkan dengan spasi): 1 5 13 16 6 4\n",
            "Cara menghitung median:\n",
            "Median = Lo + c * (((n / 2) - fk) / fm)\n",
            "Median = 54.5 + 7.0 * (((45 / 2) - 19) / 16)\n",
            "Median = 56.03125\n"
          ]
        }
      ]
    },
    {
      "cell_type": "code",
      "source": [
        "# Menghitung Median Non Interaktif\n",
        "def hitung_median_dari_data(data_kelas, data_frekuensi):\n",
        "    # Menghitung n (jumlah total frekuensi data)\n",
        "    n = sum(data_frekuensi)\n",
        "\n",
        "    # Menghitung fk (jumlah semua frekuensi dengan kelas lebih kecil dari kelas median)\n",
        "    fk = 0\n",
        "\n",
        "    # Menghitung fm (frekuensi kelas median yang Anda inginkan)\n",
        "    fm = 0\n",
        "\n",
        "    # Menghitung Lo dan c\n",
        "    Lo = 0\n",
        "    c = 0\n",
        "\n",
        "    # Mencari indeks interval dengan frekuensi paling besar\n",
        "    max_frequency_index = data_frekuensi.index(max(data_frekuensi))\n",
        "\n",
        "    for i in range(len(data_kelas)):\n",
        "        if i == max_frequency_index:\n",
        "            # Menghitung fk dan fm berdasarkan interval dengan frekuensi paling besar\n",
        "            fk += sum(data_frekuensi[:i])\n",
        "            fm = data_frekuensi[i]\n",
        "\n",
        "            # Menghitung Lo dan c berdasarkan interval dengan frekuensi paling besar\n",
        "            interval_parts = data_kelas[i].split('-')\n",
        "            Lo = float(interval_parts[0]) - 0.5\n",
        "            c = (float(interval_parts[1]) + 0.5) - Lo\n",
        "            break\n",
        "\n",
        "    # Menghitung median sesuai dengan rumus yang diberikan\n",
        "    median = Lo + c * (((n / 2) - fk) / fm)\n",
        "\n",
        "    return median, Lo, c, n, fk, fm\n",
        "\n",
        "# Data kelas dan frekuensi\n",
        "data_kelas = [\"34-40\", \"41-47\", \"48-54\", \"55-61\", \"62-68\", \"69-75\"]\n",
        "data_frekuensi = [1, 5, 13, 16, 6, 4]\n",
        "\n",
        "# Memanggil fungsi untuk menghitung median dari data kelas dan frekuensi yang diberikan\n",
        "hasil_median, Lo, c, n, fk, fm = hitung_median_dari_data(data_kelas, data_frekuensi)\n",
        "\n",
        "# Menampilkan hasil perhitungan median beserta prosesnya\n",
        "print(\"Cara menghitung median:\")\n",
        "print(f\"Median = Lo + c * (((n / 2) - fk) / fm)\")\n",
        "print(f\"Median = {Lo} + {c} * ((({n} / 2) - {fk}) / {fm})\")\n",
        "print(f\"Median = {hasil_median:.2f}\")\n"
      ],
      "metadata": {
        "colab": {
          "base_uri": "https://localhost:8080/"
        },
        "id": "WA2fucuQKxwg",
        "outputId": "bb2adfce-5794-4a8e-cdde-c2a0bcc6cfd7"
      },
      "execution_count": null,
      "outputs": [
        {
          "output_type": "stream",
          "name": "stdout",
          "text": [
            "Cara menghitung median:\n",
            "Median = Lo + c * (((n / 2) - fk) / fm)\n",
            "Median = 54.5 + 7.0 * (((45 / 2) - 19) / 16)\n",
            "Median = 56.03\n"
          ]
        }
      ]
    },
    {
      "cell_type": "code",
      "source": [
        "# DESIL DENGAN INTERAKTIF\n",
        "\n",
        "kelas = []\n",
        "frekuensi = []\n",
        "\n",
        "# Meminta pengguna untuk memasukkan kelas dan frekuensi hingga pengguna berhenti\n",
        "while True:\n",
        "    # Meminta pengguna untuk memasukkan kelas dan frekuensi\n",
        "    input_kelas = input(\"Masukkan kelas (contoh: 34-40) atau ketik 'selesai' untuk mengakhiri: \")\n",
        "\n",
        "    # Periksa jika pengguna ingin mengakhiri\n",
        "    if input_kelas.lower() == 'selesai':\n",
        "        break\n",
        "\n",
        "    input_frekuensi = int(input(\"Masukkan frekuensi: \"))\n",
        "\n",
        "    # Konversi frekuensi ke integer\n",
        "    nilai_frekuensi = int(input_frekuensi)\n",
        "\n",
        "    # Menyimpan kelas dan frekuensi dalam list\n",
        "    kelas.append(input_kelas)\n",
        "    frekuensi.append(nilai_frekuensi)\n",
        "\n",
        "# Menerima input desil dari pengguna\n",
        "desil_input = int(input(\"Masukkan desil yang ingin dihitung (misal: 6): \"))\n",
        "\n",
        "# Menghitung jumlah frekuensi\n",
        "N = sum(frekuensi)\n",
        "\n",
        "# Menghitung letak desil\n",
        "letak_desil = (desil_input * N) / 10\n",
        "\n",
        "# Mencari total frekuensi kumulatif sebelum kelas desil\n",
        "frekuensi_kumulatif = 0\n",
        "index_desil = 0\n",
        "\n",
        "for i in range(len(kelas)):\n",
        "    frekuensi_kumulatif += frekuensi[i]\n",
        "    if frekuensi_kumulatif >= letak_desil:\n",
        "        index_desil = i\n",
        "        break\n",
        "\n",
        "# Menghitung Lo dan c\n",
        "batas_kelas = kelas[index_desil].split('-')\n",
        "Lo = float(batas_kelas[0]) - 0.5\n",
        "c = float(batas_kelas[1]) + 0.5 - Lo\n",
        "\n",
        "# Menghitung desil\n",
        "desil = Lo + (c * (letak_desil - (frekuensi_kumulatif - frekuensi[index_desil])) / frekuensi[index_desil])\n",
        "\n",
        "# Menampilkan hasil\n",
        "print(f\"Desil = Lo + (c * (i.N / 10 - cf) / f desil)\")\n",
        "print(f\"DESIL:\",(desil))\n"
      ],
      "metadata": {
        "colab": {
          "base_uri": "https://localhost:8080/"
        },
        "id": "iVJHeWYZF2YD",
        "outputId": "5c9b5e74-f839-46a1-ef49-4475cc5fad82"
      },
      "execution_count": null,
      "outputs": [
        {
          "output_type": "stream",
          "name": "stdout",
          "text": [
            "Masukkan kelas (contoh: 34-40) atau ketik 'selesai' untuk mengakhiri: 38-44\n",
            "Masukkan frekuensi: 2\n",
            "Masukkan kelas (contoh: 34-40) atau ketik 'selesai' untuk mengakhiri: 45-51\n",
            "Masukkan frekuensi: 3\n",
            "Masukkan kelas (contoh: 34-40) atau ketik 'selesai' untuk mengakhiri: 52-58\n",
            "Masukkan frekuensi: 13\n",
            "Masukkan kelas (contoh: 34-40) atau ketik 'selesai' untuk mengakhiri: 59-65\n",
            "Masukkan frekuensi: 12\n",
            "Masukkan kelas (contoh: 34-40) atau ketik 'selesai' untuk mengakhiri: 66-72\n",
            "Masukkan frekuensi: 6\n",
            "Masukkan kelas (contoh: 34-40) atau ketik 'selesai' untuk mengakhiri: 73-79\n",
            "Masukkan frekuensi: 4\n",
            "Masukkan kelas (contoh: 34-40) atau ketik 'selesai' untuk mengakhiri: selesai\n",
            "Masukkan desil yang ingin dihitung (misal: 6): 6\n",
            "Desil = Lo + (c * (i.N / 10 - cf) / f desil)\n",
            "DESIL: 62.0\n"
          ]
        }
      ]
    },
    {
      "cell_type": "code",
      "source": [
        "#DESIL NON INTERAKTIF\n",
        "kelas = [\"38-44\", \"45-51\", \"52-58\", \"59-65\", \"66-72\", \"73-79\"]\n",
        "frekuensi = [2, 3, 13, 12, 6, 4]\n",
        "\n",
        "I = 6\n",
        "N = sum(frekuensi)\n",
        "CF = 0\n",
        "C = 0\n",
        "LO = 0\n",
        "\n",
        "for i in range(len(kelas)):\n",
        "    batas = kelas[i].split(\"-\")\n",
        "    batas_bawah = int(batas[0])\n",
        "    batas_atas = int(batas[1])\n",
        "    frek = frekuensi[i]\n",
        "\n",
        "    if i > 0:\n",
        "        CF += frekuensi[i - 1]\n",
        "\n",
        "    if CF + frek >= (I * N) / 10:\n",
        "        LO = batas_bawah\n",
        "        C = batas_atas - batas_bawah\n",
        "        break\n",
        "\n",
        "# Menggunakan rumus Desil\n",
        "F = frek\n",
        "Di = LO + (C / F) * ((I * N / 10) - CF)\n",
        "print(f\"Desil adalah: {Di:.1f}\")\n"
      ],
      "metadata": {
        "colab": {
          "base_uri": "https://localhost:8080/"
        },
        "id": "8UX7z52aJgB-",
        "outputId": "47bfcc5e-6812-445a-fede-ac3d7414f47a"
      },
      "execution_count": null,
      "outputs": [
        {
          "output_type": "stream",
          "name": "stdout",
          "text": [
            "Desil adalah: 62.0\n"
          ]
        }
      ]
    },
    {
      "cell_type": "code",
      "source": [
        "import matplotlib.pyplot as plt\n",
        "import numpy as np\n",
        "\n",
        "# Data kelompok dan frekuensi tiap interval\n",
        "data_kelas = [\"34-40\", \"41-47\", \"48-54\", \"55-61\", \"62-68\", \"69-75\"]\n",
        "data_frekuensi = [1, 5, 13, 16, 6, 4]\n",
        "\n",
        "# Membuat data berdasarkan frekuensi\n",
        "data = []\n",
        "for i in range(len(data_kelas)):\n",
        "    interval_parts = data_kelas[i].split('-')\n",
        "    lower_bound = float(interval_parts[0])\n",
        "    upper_bound = float(interval_parts[1])\n",
        "    interval_data = [lower_bound] * data_frekuensi[i]  # Menggunakan lower bound sebagai nilai data\n",
        "    data.extend(interval_data)\n",
        "\n",
        "# Menghitung statistik\n",
        "minimum = np.min(data)\n",
        "q1 = np.percentile(data, 25)\n",
        "median = np.median(data)\n",
        "q3 = np.percentile(data, 75)\n",
        "maximum = np.max(data)\n",
        "\n",
        "# Membuat box plot\n",
        "plt.figure(figsize=(8, 6))\n",
        "plt.boxplot(data, vert=False, widths=0.5, patch_artist=True)\n",
        "\n",
        "# Menambahkan label sumbu x\n",
        "plt.xlabel(\"Data\")\n",
        "\n",
        "# Menambahkan judul plot\n",
        "plt.title(\"Box Plot Data Kelompok dengan Frekuensi\")\n",
        "\n",
        "# Menampilkan statistik di atas box plot\n",
        "plt.text(minimum, 0.75, f\"Minimum: {minimum}\", fontsize=12, verticalalignment='center', horizontalalignment='left')\n",
        "plt.text(q1, 1.30, f\"Q1: {q1}\", fontsize=12, verticalalignment='center', horizontalalignment='center')\n",
        "plt.text(median, 1.4, f\"Median: {median}\", fontsize=12, verticalalignment='center', horizontalalignment='center')\n",
        "plt.text(q3, 1.30, f\"Q3: {q3}\", fontsize=12, verticalalignment='center', horizontalalignment='center')\n",
        "plt.text(maximum, 0.75, f\"Maximum: {maximum}\", fontsize=12, verticalalignment='center', horizontalalignment='center')\n",
        "\n",
        "# Menampilkan plot\n",
        "plt.show()"
      ],
      "metadata": {
        "colab": {
          "base_uri": "https://localhost:8080/",
          "height": 564
        },
        "id": "QIP6oEZUKgYi",
        "outputId": "314c84d1-5a9d-447b-9d9e-94e12150a351"
      },
      "execution_count": null,
      "outputs": [
        {
          "output_type": "display_data",
          "data": {
            "text/plain": [
              "<Figure size 800x600 with 1 Axes>"
            ],
            "image/png": "[encoded data removed]"
          },
          "metadata": {}
        }
      ]
    },
    {
      "cell_type": "code",
      "source": [
        "import matplotlib.pyplot as plt\n",
        "import numpy as np\n",
        "\n",
        "# Meminta input dari pengguna untuk data kelas dan frekuensi\n",
        "input_kelas = input(\"Masukkan data kelas (pisahkan dengan koma): \")\n",
        "input_frekuensi = input(\"Masukkan data frekuensi (pisahkan dengan spasi): \")\n",
        "\n",
        "# Membagi input kelas dan frekuensi menjadi list\n",
        "data_kelas = input_kelas.split(',')\n",
        "data_frekuensi = [int(x) for x in input_frekuensi.split()]\n",
        "\n",
        "# Membuat data berdasarkan frekuensi\n",
        "data = []\n",
        "for i in range(len(data_kelas)):\n",
        "    interval_parts = data_kelas[i].split('-')\n",
        "    lower_bound = float(interval_parts[0])\n",
        "    upper_bound = float(interval_parts[1])\n",
        "    interval_data = [lower_bound] * data_frekuensi[i]  # Menggunakan lower bound sebagai nilai data\n",
        "    data.extend(interval_data)\n",
        "\n",
        "# Menghitung statistik\n",
        "minimum = np.min(data)\n",
        "q1 = np.percentile(data, 25)\n",
        "median = np.median(data)\n",
        "q3 = np.percentile(data, 75)\n",
        "maximum = np.max(data)\n",
        "\n",
        "# Membuat box plot\n",
        "plt.figure(figsize=(8, 6))\n",
        "plt.boxplot(data, vert=False, widths=0.5, patch_artist=True)\n",
        "\n",
        "# Menambahkan label sumbu x\n",
        "plt.xlabel(\"Data\")\n",
        "\n",
        "# Menambahkan judul plot\n",
        "plt.title(\"Box Plot Data Kelompok dengan Frekuensi\")\n",
        "\n",
        "# Menampilkan statistik di atas box plot\n",
        "plt.text(minimum, 0.75, f\"Minimum: {minimum}\", fontsize=12, verticalalignment='center', horizontalalignment='left')\n",
        "plt.text(q1, 1.30, f\"Q1: {q1}\", fontsize=12, verticalalignment='center', horizontalalignment='center')\n",
        "plt.text(median, 1.4, f\"Median: {median}\", fontsize=12, verticalalignment='center', horizontalalignment='center')\n",
        "plt.text(q3, 1.30, f\"Q3: {q3}\", fontsize=12, verticalalignment='center', horizontalalignment='center')\n",
        "plt.text(maximum, 0.75, f\"Maximum: {maximum}\", fontsize=12, verticalalignment='center', horizontalalignment='center')\n",
        "\n",
        "# Menampilkan plot\n",
        "plt.show()"
      ],
      "metadata": {
        "colab": {
          "base_uri": "https://localhost:8080/",
          "height": 599
        },
        "id": "NQ_cJCILUKxQ",
        "outputId": "d8df444f-0970-496b-cabc-e90c5b6cb747"
      },
      "execution_count": null,
      "outputs": [
        {
          "name": "stdout",
          "output_type": "stream",
          "text": [
            "Masukkan data kelas (pisahkan dengan koma): 20-25, 26-31, 32-37\n",
            "Masukkan data frekuensi (pisahkan dengan spasi): 5 8 4\n"
          ]
        },
        {
          "output_type": "display_data",
          "data": {
            "text/plain": [
              "<Figure size 800x600 with 1 Axes>"
            ],
            "image/png": "[encoded data removed]"
          },
          "metadata": {}
        }
      ]
    },
    {
      "cell_type": "code",
      "source": [
        "# Program Non-Interaktif Untuk Menghitung Persentil Dengan Data Kelompok\n",
        "# Tabel Distribusi Data Berdasarkan PPT Bab 3 Slide 51\n",
        "\n",
        "# Fungsi Untuk Menghitung Persentil Dari Suatu Distribusi Data\n",
        "def hitung_persentil(data, persentil):\n",
        "\n",
        "    # Variabel N Untuk Total Jumlah Frekuensi\n",
        "    N = sum(data.values())\n",
        "\n",
        "    # Variabel iN Untuk Posisi Persentil\n",
        "    iN = (persentil * N) / 100\n",
        "\n",
        "    # Variabel cf Untuk Frekuensi Kumulatif\n",
        "    cf = 0\n",
        "\n",
        "    # Variabel f Untuk Frekuensi\n",
        "    f = 0\n",
        "\n",
        "    # Variabel Lo Untuk Nilai Bawah Interval\n",
        "    Lo = 0\n",
        "\n",
        "    # Variabel c Untuk Panjang Kelas\n",
        "    c = 0\n",
        "\n",
        "    for i, (kelas, frekuensi) in enumerate(data.items()):\n",
        "        if cf + frekuensi >= iN: # Untuk periksa apakah setelah penambahan frekuensi cf akan lebih besar atau sama dengan iN\n",
        "            Lo = kelas[0] - 0.5\n",
        "            f = frekuensi\n",
        "            c = kelas[1] + 0.5 - Lo\n",
        "            break\n",
        "        cf += frekuensi\n",
        "\n",
        "    if f == 0:\n",
        "        return None\n",
        "\n",
        "    Pi = Lo + (c / f) * (iN - cf)\n",
        "\n",
        "    return Pi, N, iN, f, cf, Lo, c\n",
        "\n",
        " # Sebagai Fungsi Utama Untuk Menjalankan & Menampilkan Program Dilayar Pengguna\n",
        "def main():\n",
        "    persentil = 59 # Persentil Yang Ingin Dihitung\n",
        "    data = {\n",
        "        (38, 44): 2,\n",
        "        (45, 51): 3,\n",
        "        (52, 58): 13,\n",
        "        (59, 65): 12,\n",
        "        (66, 72): 6,\n",
        "        (73, 79): 2,\n",
        "    }\n",
        "\n",
        "    persentil_result = hitung_persentil(data, persentil)\n",
        "\n",
        "    if persentil_result is None:\n",
        "        print(\"Tidak dapat menghitung persentil. Nilai f = 0\")\n",
        "        return\n",
        "\n",
        "    Pi, N, iN, f, cf, Lo, c = persentil_result\n",
        "\n",
        "    print(f\"N = {N}\")\n",
        "    print(f\"iN = {iN}\")\n",
        "    print(f\"f = {f}\")\n",
        "    print(f\"cf = {cf}\")\n",
        "    print(f\"Lo = {Lo}\")\n",
        "    print(f\"c = {c}\")\n",
        "    print(f\"Pi = {Pi}\")\n",
        "\n",
        "    if Pi <= 100:\n",
        "        print(f\"Persentil ke-{persentil} yaitu {Pi}\")\n",
        "\n",
        "if __name__ == \"__main__\":\n",
        "    main()"
      ],
      "metadata": {
        "colab": {
          "base_uri": "https://localhost:8080/"
        },
        "id": "PT4azYfhcae1",
        "outputId": "2f464e8a-b606-4b46-dd16-0310d1d9e851"
      },
      "execution_count": null,
      "outputs": [
        {
          "output_type": "stream",
          "name": "stdout",
          "text": [
            "N = 38\n",
            "iN = 22.42\n",
            "f = 12\n",
            "cf = 18\n",
            "Lo = 58.5\n",
            "c = 7.0\n",
            "Pi = 61.07833333333333\n",
            "Persentil ke-59 yaitu 61.07833333333333\n"
          ]
        }
      ]
    },
    {
      "cell_type": "code",
      "source": [
        "# Program Interaktif Untuk Menghitung Persentil Dengan Data Kelompok\n",
        "# Tabel Distribusi Data Berdasarkan PPT Bab 3 Slide 51\n",
        "\n",
        "# Fungsi Untuk Menghitung Persentil Dari Suatu Distribusi Data\n",
        "def hitung_persentil(data, persentil):\n",
        "\n",
        "    # Variabel N Untuk Total Jumlah Frekuensi\n",
        "    N = sum(data.values())\n",
        "\n",
        "    # Variabel iN Untuk Posisi Persentil\n",
        "    iN = (persentil * N) / 100\n",
        "\n",
        "    # Variabel cf Untuk Frekuensi Kumulatif\n",
        "    cf = 0\n",
        "\n",
        "    # Variabel f Untuk Frekuensi\n",
        "    f = 0\n",
        "\n",
        "    # Variabel Lo Untuk Nilai Bawah Interval\n",
        "    Lo = 0\n",
        "\n",
        "    # Variabel c Untuk Panjang Kelas\n",
        "    c = 0\n",
        "\n",
        "    for i, (kelas, frekuensi) in enumerate(data.items()):\n",
        "        if cf + frekuensi >= iN: # Untuk periksa apakah setelah penambahan frekuensi cf akan lebih besar atau sama dengan iN\n",
        "            Lo = kelas[0] - 0.5\n",
        "            f = frekuensi\n",
        "            c = (kelas[1]) + 0.5 - Lo\n",
        "            break\n",
        "        cf += frekuensi\n",
        "\n",
        "    if f == 0:\n",
        "        return None\n",
        "\n",
        "    Pi = Lo + (c / f) * (iN - cf)\n",
        "\n",
        "    return Pi, N, iN, f, cf, Lo, c\n",
        "\n",
        "# Sebagai Fungsi Utama Untuk Menjalankan & Menampilkan Program Dilayar Pengguna\n",
        "def main():\n",
        "    persentil = int(input(\"Masukkan persentil yang ingin dihitung : \"))\n",
        "    data = {}\n",
        "    n = int(input(\"Masukkan jumlah kelas : \"))\n",
        "    for i in range(n):\n",
        "        kelas = tuple(map(int, input(f\"Masukkan kelas ke-{i+1} (format: batas bawah-batas atas) : \").split('-')))\n",
        "        frekuensi = int(input(f\"Masukkan frekuensi untuk kelas {kelas} : \"))\n",
        "        data[kelas] = frekuensi\n",
        "\n",
        "    persentil_result = hitung_persentil(data, persentil)\n",
        "\n",
        "    if persentil_result is None:\n",
        "        print(\"Tidak dapat menghitung persentil. Nilai f = 0\")\n",
        "        return\n",
        "\n",
        "    Pi, N, iN, f, cf, Lo, c = persentil_result\n",
        "\n",
        "    print(f\"N = {N}\")\n",
        "    print(f\"iN = {iN}\")\n",
        "    print(f\"f = {f}\")\n",
        "    print(f\"cf = {cf}\")\n",
        "    print(f\"Lo = {Lo}\")\n",
        "    print(f\"c = {c}\")\n",
        "    print(f\"Pi = {Pi}\")\n",
        "\n",
        "    if Pi <= 100:\n",
        "        print (f\"Persentil ke-{persentil} yaitu {Pi}\")\n",
        "\n",
        "if __name__ == \"__main__\": # Untuk Memeriksan Apakah Kode Yang Dibuat Dijalankan Langsung atau Diimpor Kedalam Skrip Lain\n",
        "    main()"
      ],
      "metadata": {
        "colab": {
          "base_uri": "https://localhost:8080/"
        },
        "id": "RXs1q9qlcdcv",
        "outputId": "6daba11a-02a3-4dd8-d2f1-0f0e926da428"
      },
      "execution_count": null,
      "outputs": [
        {
          "output_type": "stream",
          "name": "stdout",
          "text": [
            "Masukkan persentil yang ingin dihitung : 59\n",
            "Masukkan jumlah kelas : 6\n",
            "Masukkan kelas ke-1 (format: batas bawah-batas atas) : 38-44\n",
            "Masukkan frekuensi untuk kelas (38, 44) : 2\n",
            "Masukkan kelas ke-2 (format: batas bawah-batas atas) : 45-51\n",
            "Masukkan frekuensi untuk kelas (45, 51) : 3\n",
            "Masukkan kelas ke-3 (format: batas bawah-batas atas) : 52-58\n",
            "Masukkan frekuensi untuk kelas (52, 58) : 13\n",
            "Masukkan kelas ke-4 (format: batas bawah-batas atas) : 59-65\n",
            "Masukkan frekuensi untuk kelas (59, 65) : 12\n",
            "Masukkan kelas ke-5 (format: batas bawah-batas atas) : 66-72\n",
            "Masukkan frekuensi untuk kelas (66, 72) : 6\n",
            "Masukkan kelas ke-6 (format: batas bawah-batas atas) : 73-79\n",
            "Masukkan frekuensi untuk kelas (73, 79) : 4\n",
            "N = 40\n",
            "iN = 23.6\n",
            "f = 12\n",
            "cf = 18\n",
            "Lo = 58.5\n",
            "c = 7.0\n",
            "Pi = 61.766666666666666\n",
            "Persentil ke-59 yaitu 61.766666666666666\n"
          ]
        }
      ]
    },
    {
      "cell_type": "code",
      "source": [
        "# QUARTIL TANPA INPUT\n",
        "\n",
        "# Data kelas\n",
        "kelas = [\"34 - 40\", \"41 - 47\", \"48 - 54\", \"55 - 61\", \"62 - 68\", \"69 - 75\"]\n",
        "frekuensi = [1, 5, 13, 16, 6, 4]\n",
        "frekuensi_kumulatif = [1, 6, 19, 35, 41, 45]\n",
        "\n",
        "# Menghitung total frekuensi\n",
        "total_frekuensi = frekuensi_kumulatif[-1]\n",
        "\n",
        "def hitung_kuartil(iN_4, kelas, frekuensi, frekuensi_kumulatif):\n",
        "    kelas_q = None\n",
        "    for i, fk in enumerate(frekuensi_kumulatif):\n",
        "        if fk >= iN_4:\n",
        "            kelas_q = i\n",
        "            break\n",
        "\n",
        "    kelas_range = kelas[kelas_q]\n",
        "    kelas_awal, kelas_akhir = map(int, kelas_range.split(\" - \"))\n",
        "    L0 = kelas_awal\n",
        "    c = (kelas_akhir - kelas_awal) / frekuensi[kelas_q]\n",
        "\n",
        "    if kelas_q == 0:\n",
        "        f_iN_4 = iN_4\n",
        "    else:\n",
        "        f_iN_4 = iN_4 - frekuensi_kumulatif[kelas_q - 1]\n",
        "\n",
        "    Q = L0 + c * f_iN_4\n",
        "    return Q\n",
        "\n",
        "# Menghitung Q1, Q2, dan Q3\n",
        "Q1 = hitung_kuartil(total_frekuensi / 4, kelas, frekuensi, frekuensi_kumulatif)\n",
        "Q2 = hitung_kuartil(2 * total_frekuensi / 4, kelas, frekuensi, frekuensi_kumulatif)\n",
        "Q3 = hitung_kuartil(3 * total_frekuensi / 4, kelas, frekuensi, frekuensi_kumulatif)\n",
        "\n",
        "# Menampilkan hasil Q1, Q2, dan Q3\n",
        "print(\"Q1 =\", Q1)\n",
        "print(\"Q2 =\", Q2)\n",
        "print(\"Q3 =\", Q3)"
      ],
      "metadata": {
        "id": "zw72NyYRdrYZ",
        "colab": {
          "base_uri": "https://localhost:8080/"
        },
        "outputId": "2ac30844-7d66-40f5-c05c-2152e86ab4cb"
      },
      "execution_count": null,
      "outputs": [
        {
          "output_type": "stream",
          "name": "stdout",
          "text": [
            "Q1 = 50.42307692307692\n",
            "Q2 = 56.3125\n",
            "Q3 = 60.53125\n"
          ]
        }
      ]
    },
    {
      "cell_type": "code",
      "source": [
        "# Meminta input untuk data kelas dan frekuensi\n",
        "kelas_input = input(\"Masukkan data kelas (pisahkan dengan koma, format: 34-40,41-47,48-54,...): \").split(',')\n",
        "frekuensi = list(map(int, input(\"Masukkan data frekuensi (pisahkan dengan koma): \").split(',')))\n",
        "\n",
        "# Menghitung total frekuensi\n",
        "total_frekuensi = sum(frekuensi)\n",
        "\n",
        "def hitung_kuartil(iN_4, kelas, frekuensi):\n",
        "    kelas_q = None\n",
        "    kelas_accumulator = 0\n",
        "\n",
        "    for i, kelas_range in enumerate(kelas):\n",
        "        kelas_awal, kelas_akhir = map(int, kelas_range.split(\"-\"))\n",
        "        kelas_accumulator += frekuensi[i]\n",
        "\n",
        "        if kelas_accumulator >= iN_4:\n",
        "            kelas_q = i\n",
        "            break\n",
        "\n",
        "    L0 = kelas_awal\n",
        "    c = kelas_akhir - kelas_awal\n",
        "    f_iN_4 = kelas_accumulator - frekuensi[kelas_q]\n",
        "\n",
        "    Q = L0 + c * (f_iN_4 / frekuensi[kelas_q])\n",
        "    return Q\n",
        "\n",
        "# Menghitung Q1, Q2, dan Q3\n",
        "Q1 = hitung_kuartil(total_frekuensi / 4, kelas_input, frekuensi)\n",
        "Q2 = hitung_kuartil(2 * total_frekuensi / 4, kelas_input, frekuensi)\n",
        "Q3 = hitung_kuartil(3 * total_frekuensi / 4, kelas_input, frekuensi)\n",
        "\n",
        "# Menampilkan hasil Q1, Q2, dan Q3\n",
        "print(\"Q1 =\", Q1)\n",
        "print(\"Q2 =\", Q2)\n",
        "print(\"Q3 =\", Q3)\n"
      ],
      "metadata": {
        "id": "4CsK7UdGJuMs",
        "colab": {
          "base_uri": "https://localhost:8080/"
        },
        "outputId": "3cc079b9-0020-43dd-9dfd-d97aadb4fb35"
      },
      "execution_count": null,
      "outputs": [
        {
          "output_type": "stream",
          "name": "stdout",
          "text": [
            "Masukkan data kelas (pisahkan dengan koma, format: 34-40,41-47,48-54,...): 34-40,41-47,48-54,55-61,62-68,69-75\n",
            "Masukkan data frekuensi (pisahkan dengan koma): 1,5,13,16,6,4\n",
            "Q1 = 50.76923076923077\n",
            "Q2 = 62.125\n",
            "Q3 = 62.125\n"
          ]
        }
      ]
    }
  ]
}